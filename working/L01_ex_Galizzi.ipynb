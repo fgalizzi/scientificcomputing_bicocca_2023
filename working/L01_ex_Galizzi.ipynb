{
 "cells": [
  {
   "cell_type": "markdown",
   "id": "9dee6d51-57a1-4a66-b035-4dc1ed82b1fe",
   "metadata": {},
   "source": [
    "# Lecture 1\n",
    "Excercises proposed for the exams: Q5 and Q7\n",
    "\n",
    "Extras: Q1, Q2, Q3, Q6 and Q11"
   ]
  },
  {
   "cell_type": "markdown",
   "id": "956c9114-b53d-4963-97fb-059b537e9858",
   "metadata": {},
   "source": [
    "## Q5: Word counts\n",
    "### Part 1. Short words\n",
    "\n",
    "Let's practice functions.  Here's a simple function that takes a string and returns a list of all the 4 letter words:\n"
   ]
  },
  {
   "cell_type": "code",
   "execution_count": 1,
   "id": "feeb42b3-aece-4b36-a3b7-6464835073fb",
   "metadata": {},
   "outputs": [],
   "source": [
    "def four_letter_words(message):\n",
    "    \"\"\"Look for 4-letter words in a message\"\"\"\n",
    "    words = message.split()\n",
    "    four_letters = [w for w in words if len(w) == 4]\n",
    "    return four_letters"
   ]
  },
  {
   "cell_type": "code",
   "execution_count": 2,
   "id": "63ce63b2-7820-4c84-aede-cee02a1df938",
   "metadata": {},
   "outputs": [
    {
     "name": "stdout",
     "output_type": "stream",
     "text": [
      "['over', 'lazy']\n"
     ]
    }
   ],
   "source": [
    "message = \"The quick brown fox jumps over the lazy dog\"\n",
    "print(four_letter_words(message))"
   ]
  },
  {
   "cell_type": "markdown",
   "id": "b82c04ca-bd75-4142-b7ef-250124fe44f7",
   "metadata": {},
   "source": [
    "Write a version of this function that takes a second argument, n, that is the word length we want to search for"
   ]
  },
  {
   "cell_type": "code",
   "execution_count": 3,
   "id": "906e9cef-4c41-4412-99cd-b9f609a08fcb",
   "metadata": {},
   "outputs": [],
   "source": [
    "def n_letter_words(message, n):\n",
    "    \"\"\"Look for n-letter words in a message\"\"\" \n",
    "    words = message.split()\n",
    "    four_letters = [w for w in words if len(w) == n]\n",
    "    return four_letters"
   ]
  },
  {
   "cell_type": "code",
   "execution_count": 4,
   "id": "6ada28ad-6b19-4842-81f3-474d727ea554",
   "metadata": {},
   "outputs": [
    {
     "name": "stdout",
     "output_type": "stream",
     "text": [
      "['over', 'lazy']\n"
     ]
    }
   ],
   "source": [
    "message = \"The quick brown fox jumps over the lazy dog\"\n",
    "print(n_letter_words(message, 4))"
   ]
  },
  {
   "cell_type": "markdown",
   "id": "9f5cf0b0-ab1d-4ff5-88bb-8dcf33e57716",
   "metadata": {},
   "source": [
    "### Part 2: Panagrams\n",
    "\n",
    "A _panagram_ is a sentence that includes all 26 letters of the alphabet, e.g., \"_The quick brown fox jumps over the lazy dog_.\"\n",
    "\n",
    "Write a function that takes as an argument a sentence and returns `True` or `False`, indicating whether the sentence is a panagram."
   ]
  },
  {
   "cell_type": "code",
   "execution_count": 5,
   "id": "4212a6a7-4e43-4dd2-b0a8-d03e5b58eefb",
   "metadata": {},
   "outputs": [],
   "source": [
    "def is_pangram(sentence):\n",
    "    \n",
    "    sentence = sentence.lower() # Lowercase the sentence\n",
    "    alphabet_set = set(\"abcdefghijklmnopqrstuvwxyz\")\n",
    "    \n",
    "    return set(sentence) >= alphabet_set"
   ]
  },
  {
   "cell_type": "code",
   "execution_count": 6,
   "id": "c16cd54a-ec4a-4e72-8ef5-80f5bc9f863f",
   "metadata": {},
   "outputs": [
    {
     "name": "stdout",
     "output_type": "stream",
     "text": [
      "The quick brown fox jumps over the lazy dog  is a pangram: True\n",
      "Rosso di sera... Anche di mattina!  is a pangram: False\n"
     ]
    }
   ],
   "source": [
    "# Tests\n",
    "print(message, \" Is a pangram?\", is_pangram(message) )\n",
    "message2 = \"Rosso di sera... Anche di mattina!\"\n",
    "print(message2, \" Is a pangram?\", is_pangram(message2) )"
   ]
  },
  {
   "cell_type": "markdown",
   "id": "ed669db3-472b-4e44-b01d-78c65612888e",
   "metadata": {},
   "source": [
    "## Q7: Tic-tac-toe\n",
    "\n",
    "Here we'll write a simple tic-tac-toe game that 2 players can play.  First we'll create a string that represents our game board:"
   ]
  },
  {
   "cell_type": "code",
   "execution_count": 7,
   "id": "b47f43e6-0cf8-4766-8dc1-479bdf95b841",
   "metadata": {},
   "outputs": [],
   "source": [
    "board = \"\"\"\n",
    " {s1:^3} | {s2:^3} | {s3:^3}\n",
    "-----+-----+-----\n",
    " {s4:^3} | {s5:^3} | {s6:^3}\n",
    "-----+-----+-----      123\n",
    " {s7:^3} | {s8:^3} | {s9:^3}       456\n",
    "                       789  \n",
    "\"\"\"\n",
    "\n",
    "play = {}\n",
    "\n",
    "def initialize_board(play):\n",
    "    for n in range(9):\n",
    "        play[\"s{}\".format(n+1)] = \"\"\n",
    "\n",
    "initialize_board(play)\n",
    "\n",
    "a = \"{s1:} {s2:}\".format(s2=1, s1=2)\n",
    "\n",
    "def show_board(play):\n",
    "    \"\"\" display the playing board.  We take a dictionary with the current state of the board\n",
    "    We rely on the board string to be a global variable\"\"\"\n",
    "    print(board.format(**play))\n",
    "\n",
    "def get_move(n, xo, play):\n",
    "    \"\"\" ask the current player, n, to make a move -- make sure the square was not \n",
    "        already played.  xo is a string of the character (x or o) we will place in\n",
    "        the desired square \"\"\"\n",
    "    valid_move = False\n",
    "    while not valid_move:\n",
    "        idx = input(\"player {}, enter your move (1-9)\".format(n))\n",
    "        if play[\"s{}\".format(idx)] == \"\":\n",
    "            valid_move = True\n",
    "        else:\n",
    "            print(\"invalid: {}\".format(play[\"s{}\".format(idx)]))\n",
    "            \n",
    "    play[\"s{}\".format(idx)] = xo"
   ]
  },
  {
   "cell_type": "markdown",
   "id": "48c6a572-42e3-479c-85a3-68ebe3255543",
   "metadata": {},
   "source": [
    "### Your task\n",
    "\n",
    "Using the functions defined above,\n",
    "  * `initialize_board()`\n",
    "  * `show_board()`\n",
    "  * `get_move()`\n",
    "\n",
    "fill in the function `play_game()` below to complete the game, asking for the moves one at a time, alternating between player 1 and 2"
   ]
  },
  {
   "cell_type": "code",
   "execution_count": 8,
   "id": "bbd41ac0-d6ee-428c-917b-c909bac4078c",
   "metadata": {},
   "outputs": [],
   "source": [
    "def play_game():\n",
    "    \"\"\"Play a game of tic-tac-toe, than you can have pasta e fagioli\"\"\"\n",
    "    play = {}\n",
    "    initialize_board(play)\n",
    "    for player in range(9):\n",
    "        if player % 2 == 0:\n",
    "            n = \"Bud\"\n",
    "            m = \"x\"\n",
    "        else:\n",
    "            n = \"Terence\"\n",
    "            m = \"o\"\n",
    "        get_move(n, m, play)\n",
    "        show_board(play)"
   ]
  },
  {
   "cell_type": "code",
   "execution_count": 9,
   "id": "9e8bfb42-3659-4539-8846-7fdb1071ef8d",
   "metadata": {},
   "outputs": [
    {
     "name": "stdin",
     "output_type": "stream",
     "text": [
      "player Bud, enter your move (1-9) 1\n"
     ]
    },
    {
     "name": "stdout",
     "output_type": "stream",
     "text": [
      "\n",
      "  x  |     |    \n",
      "-----+-----+-----\n",
      "     |     |    \n",
      "-----+-----+-----      123\n",
      "     |     |           456\n",
      "                       789  \n",
      "\n"
     ]
    },
    {
     "name": "stdin",
     "output_type": "stream",
     "text": [
      "player Terence, enter your move (1-9) 2\n"
     ]
    },
    {
     "name": "stdout",
     "output_type": "stream",
     "text": [
      "\n",
      "  x  |  o  |    \n",
      "-----+-----+-----\n",
      "     |     |    \n",
      "-----+-----+-----      123\n",
      "     |     |           456\n",
      "                       789  \n",
      "\n"
     ]
    },
    {
     "name": "stdin",
     "output_type": "stream",
     "text": [
      "player Bud, enter your move (1-9) 3\n"
     ]
    },
    {
     "name": "stdout",
     "output_type": "stream",
     "text": [
      "\n",
      "  x  |  o  |  x \n",
      "-----+-----+-----\n",
      "     |     |    \n",
      "-----+-----+-----      123\n",
      "     |     |           456\n",
      "                       789  \n",
      "\n"
     ]
    },
    {
     "name": "stdin",
     "output_type": "stream",
     "text": [
      "player Terence, enter your move (1-9) 4\n"
     ]
    },
    {
     "name": "stdout",
     "output_type": "stream",
     "text": [
      "\n",
      "  x  |  o  |  x \n",
      "-----+-----+-----\n",
      "  o  |     |    \n",
      "-----+-----+-----      123\n",
      "     |     |           456\n",
      "                       789  \n",
      "\n"
     ]
    },
    {
     "name": "stdin",
     "output_type": "stream",
     "text": [
      "player Bud, enter your move (1-9) 5\n"
     ]
    },
    {
     "name": "stdout",
     "output_type": "stream",
     "text": [
      "\n",
      "  x  |  o  |  x \n",
      "-----+-----+-----\n",
      "  o  |  x  |    \n",
      "-----+-----+-----      123\n",
      "     |     |           456\n",
      "                       789  \n",
      "\n"
     ]
    },
    {
     "name": "stdin",
     "output_type": "stream",
     "text": [
      "player Terence, enter your move (1-9) 6\n"
     ]
    },
    {
     "name": "stdout",
     "output_type": "stream",
     "text": [
      "\n",
      "  x  |  o  |  x \n",
      "-----+-----+-----\n",
      "  o  |  x  |  o \n",
      "-----+-----+-----      123\n",
      "     |     |           456\n",
      "                       789  \n",
      "\n"
     ]
    },
    {
     "name": "stdin",
     "output_type": "stream",
     "text": [
      "player Bud, enter your move (1-9) 7\n"
     ]
    },
    {
     "name": "stdout",
     "output_type": "stream",
     "text": [
      "\n",
      "  x  |  o  |  x \n",
      "-----+-----+-----\n",
      "  o  |  x  |  o \n",
      "-----+-----+-----      123\n",
      "  x  |     |           456\n",
      "                       789  \n",
      "\n"
     ]
    },
    {
     "name": "stdin",
     "output_type": "stream",
     "text": [
      "player Terence, enter your move (1-9) 8\n"
     ]
    },
    {
     "name": "stdout",
     "output_type": "stream",
     "text": [
      "\n",
      "  x  |  o  |  x \n",
      "-----+-----+-----\n",
      "  o  |  x  |  o \n",
      "-----+-----+-----      123\n",
      "  x  |  o  |           456\n",
      "                       789  \n",
      "\n"
     ]
    },
    {
     "name": "stdin",
     "output_type": "stream",
     "text": [
      "player Bud, enter your move (1-9) 9\n"
     ]
    },
    {
     "name": "stdout",
     "output_type": "stream",
     "text": [
      "\n",
      "  x  |  o  |  x \n",
      "-----+-----+-----\n",
      "  o  |  x  |  o \n",
      "-----+-----+-----      123\n",
      "  x  |  o  |  x        456\n",
      "                       789  \n",
      "\n"
     ]
    }
   ],
   "source": [
    "play_game()"
   ]
  },
  {
   "cell_type": "markdown",
   "id": "2637bc50-e1ce-416f-b588-3d26d77c9cc0",
   "metadata": {
    "jp-MarkdownHeadingCollapsed": true
   },
   "source": [
    "# Extras"
   ]
  },
  {
   "cell_type": "markdown",
   "id": "c6a8a716-3e10-4387-bff7-4af5d3fe69ec",
   "metadata": {},
   "source": [
    "## L1-Q1: Machine precision"
   ]
  },
  {
   "cell_type": "markdown",
   "id": "84db4890-ada1-44fb-a1db-19402907fba8",
   "metadata": {
    "jp-MarkdownHeadingCollapsed": true
   },
   "source": [
    "When talking about floating point, we discussed _machine epsilon_, $\\epsilon$&mdash;this is the smallest number that when added to 1 is still different from 1.\n",
    "\n",
    "We'll compute $\\epsilon$ here:\n",
    "\n",
    "  * Pick an initial guess for $\\epsilon$ of `eps = 1`.  \n",
    "\n",
    "  * Create a loop that checks whether `1 + eps` is different from `1`\n",
    "  \n",
    "  * Each loop iteration, cut the value of `eps` in half\n",
    "  \n",
    "What value of $\\epsilon$ do you find?\n"
   ]
  },
  {
   "cell_type": "code",
   "execution_count": 20,
   "id": "4b542cba-f42b-428c-a067-fa2e9d4fb309",
   "metadata": {},
   "outputs": [
    {
     "name": "stdout",
     "output_type": "stream",
     "text": [
      "1.1102230246251565e-16\n"
     ]
    }
   ],
   "source": [
    "eps = 1\n",
    "\n",
    "while 1 != 1+eps:\n",
    "    eps /= 2\n",
    "print(eps)"
   ]
  },
  {
   "cell_type": "markdown",
   "id": "2f86f111-c8ca-42d5-aac2-2ddf95884780",
   "metadata": {},
   "source": [
    "## L2-Q2: Iterations"
   ]
  },
  {
   "cell_type": "markdown",
   "id": "be7b18e6-50cb-4cb6-8921-2ef52dc549ad",
   "metadata": {},
   "source": [
    "### Part 1\n",
    "\n",
    "To iterate over the tuples, where the _i_-th tuple contains the _i_-th elements of certain sequences, we can use `zip(*sequences)` function.\n",
    "\n",
    "We will iterate over two lists, `names` and `age`, and print out the resulting tuples.\n",
    "\n",
    "  * Start by initializing lists `names = [\"Mary\", \"John\", \"Sarah\"]` and `age = [21, 56, 98]`.\n",
    "  \n",
    "  * Iterate over the tuples containing a name and an age, the `zip(list1, list2)` function might be useful here.\n",
    "  \n",
    "  * Print out formatted strings of the type \"*NAME is AGE years old*\"."
   ]
  },
  {
   "cell_type": "code",
   "execution_count": 13,
   "id": "d5b2190c-7bd9-4429-955e-72ae27a65839",
   "metadata": {},
   "outputs": [
    {
     "name": "stdout",
     "output_type": "stream",
     "text": [
      "Mary is 21 years old\n",
      "John is 56 years old\n",
      "Sarah is 98 years old\n"
     ]
    }
   ],
   "source": [
    "#Part1\n",
    "names = [\"Mary\", \"John\", \"Sarah\"]\n",
    "age = [21, 56, 98]\n",
    "\n",
    "for n, a in zip(names,age):\n",
    "    print(n , \"is\", a, \"years old\") "
   ]
  },
  {
   "cell_type": "markdown",
   "id": "185586ea-9f82-4c2a-8415-f111da49a3b0",
   "metadata": {},
   "source": [
    "### Part 2\n",
    "\n",
    "The function `enumerate(sequence)` returns tuples containing indices of objects in the sequence, and the objects. \n",
    "\n",
    "The `random` module provides tools for working with the random numbers. In particular, `random.randint(start, end)` generates a random number not smaller than `start`, and not bigger than `end`.\n",
    "\n",
    "  * Generate a list of 10 random numbers from 0 to 9.\n",
    "  \n",
    "  * Using the `enumerate(random_list)` function, iterate over the tuples of random numbers and their indices, and print out *\"Match: NUMBER and INDEX\"* if the random number and its index in the list match."
   ]
  },
  {
   "cell_type": "code",
   "execution_count": 14,
   "id": "5a6cf0ed-e07a-4c99-b88a-e6f05511973c",
   "metadata": {},
   "outputs": [],
   "source": [
    "#Part2\n",
    "import random"
   ]
  },
  {
   "cell_type": "code",
   "execution_count": 15,
   "id": "79758f01-f8bc-4916-9e4a-5e1486088fcc",
   "metadata": {},
   "outputs": [
    {
     "name": "stdout",
     "output_type": "stream",
     "text": [
      "Number of matches  0\n"
     ]
    }
   ],
   "source": [
    "rl = []\n",
    "for i in range(10):\n",
    "    rl.append(random.randint(0,10))\n",
    "    \n",
    "m = 0 #Actually useless, just a beginner's check\n",
    "for i, t in enumerate(rl):\n",
    "    if i==t:\n",
    "        print(\"Match\", i, \"=\", t)\n",
    "        m += 1\n",
    "\n",
    "print(\"Number of matches \", m) "
   ]
  },
  {
   "cell_type": "markdown",
   "id": "6e05635c-554f-40c5-bb3b-f129126380c4",
   "metadata": {},
   "source": [
    "## L1-Q3: Books "
   ]
  },
  {
   "cell_type": "markdown",
   "id": "62d63b64-89f3-40bf-87f2-0f0cdbada592",
   "metadata": {},
   "source": [
    "Here is a list of book titles (from http://thegreatestbooks.org).  Loop through the list and capitalize each word in each title. "
   ]
  },
  {
   "cell_type": "code",
   "execution_count": 16,
   "id": "f3df405f-b168-4bd3-b2ce-f5a790f83d22",
   "metadata": {},
   "outputs": [],
   "source": [
    "titles = [\"don quixote\", \n",
    "          \"in search of lost time\", \n",
    "          \"ulysses\", \n",
    "          \"the odyssey\", \n",
    "          \"war and piece\", \n",
    "          \"moby dick\", \n",
    "          \"the divine comedy\", \n",
    "          \"hamlet\", \n",
    "          \"the adventures of huckleberry finn\", \n",
    "          \"the great gatsby\"]"
   ]
  },
  {
   "cell_type": "code",
   "execution_count": 17,
   "id": "c6045b82-8911-4651-82c8-4fd00ae90aa3",
   "metadata": {},
   "outputs": [
    {
     "name": "stdout",
     "output_type": "stream",
     "text": [
      "['Don Quixote', 'In Search Of Lost Time', 'Ulysses', 'The Odyssey', 'War And Piece', 'Moby Dick', 'The Divine Comedy', 'Hamlet', 'The Adventures Of Huckleberry Finn', 'The Great Gatsby']\n"
     ]
    }
   ],
   "source": [
    "for i, b in enumerate(titles):\n",
    "     titles[i] = b.title()\n",
    "print(titles)"
   ]
  },
  {
   "cell_type": "markdown",
   "id": "c8af8029-ebc8-4396-8803-248af109dada",
   "metadata": {},
   "source": [
    "## L1-Q6: Cath errors"
   ]
  },
  {
   "cell_type": "markdown",
   "id": "ca94c3b8-05fb-48f9-8b6c-e216dc83a4a3",
   "metadata": {},
   "source": [
    "### Your task\n",
    "\n",
    "Write a function, `convert_type(a)` that takes a string `a`, and converts it to a float if it is a number with a decimal point, an int if it is an integer, or leaves it as a string otherwise, and returns the result.  You'll want to use exceptions to prevent the code from aborting."
   ]
  },
  {
   "cell_type": "code",
   "execution_count": 18,
   "id": "01866602-6f5b-4adb-9f84-543d03eba7be",
   "metadata": {},
   "outputs": [],
   "source": [
    "def convert_type(a):\n",
    "    try:\n",
    "        return int(a)\n",
    "    except ValueError:\n",
    "        try:\n",
    "            return float(a)\n",
    "        except ValueError:\n",
    "            return a"
   ]
  },
  {
   "cell_type": "code",
   "execution_count": 19,
   "id": "4f22a77a-dc02-4a3b-9538-8bc74a7b956c",
   "metadata": {},
   "outputs": [
    {
     "name": "stdout",
     "output_type": "stream",
     "text": [
      "2 <class 'int'>\n"
     ]
    }
   ],
   "source": [
    "c = convert_type(\"2\")\n",
    "print(c, type(c))"
   ]
  },
  {
   "cell_type": "markdown",
   "id": "bf47e9f3-5f68-48d4-9335-2777c89d5cb2",
   "metadata": {},
   "source": [
    "## L1-Q11: Rock-Paper-Scissors"
   ]
  },
  {
   "cell_type": "markdown",
   "id": "9d0c7e26-2340-47b2-95a7-b42a51bc265c",
   "metadata": {},
   "source": [
    "Implement a set of games of rock-paper-scissors against the computer.  \n",
    "\n",
    "  * Ask for input from the user (\"rock\", \"paper\", or \"scissors\") and the randomly select one of these for the computer's play.\n",
    "  * Announce who won.\n",
    "  * Keep playing until a player says that they no longer want to play.\n",
    "  * When all games are done, print out how many games were won by the player and by the computer"
   ]
  },
  {
   "cell_type": "code",
   "execution_count": 20,
   "id": "1295b1c7-a31e-4d19-b189-e7451b38dadf",
   "metadata": {},
   "outputs": [],
   "source": [
    "import random\n",
    "def rps_game():\n",
    "    me = 0\n",
    "    pc = 0\n",
    "    gg = 0\n",
    "    ll = [\"r\", \"p\", \"s\"]\n",
    "    i = input(\"Enter your move (r,p,s) or exit (another letter)\".format(ll[0]))\n",
    "    \n",
    "    while i in ll:\n",
    "        t = random.randint(0,2)\n",
    "        g = ll[t]\n",
    "        gg += 1\n",
    "        if (i==\"r\" and g==\"s\") or (i==\"p\" and g==\"r\") or (i==\"s\" and g==\"p\"):\n",
    "            me +=1\n",
    "        if (g==\"r\" and i==\"s\") or (g==\"p\" and i==\"r\") or (g==\"s\" and i==\"p\"):\n",
    "            pc +=1\n",
    "        print (\"You\", i, \"| Pc\", g)\n",
    "        i = input(\"Enter your move (r,p,s) or exit (another letter)\".format(ll[0]))\n",
    "        \n",
    "    print (\"Games:\", gg, \"| Your wins: \", me, \"| Pc wins: \", pc) "
   ]
  },
  {
   "cell_type": "code",
   "execution_count": 21,
   "id": "f1c3a353-009b-459b-8148-c411e83cf472",
   "metadata": {},
   "outputs": [
    {
     "name": "stdin",
     "output_type": "stream",
     "text": [
      "Enter your move (r,p,s) or exit (another letter) r\n"
     ]
    },
    {
     "name": "stdout",
     "output_type": "stream",
     "text": [
      "You r | Pc r\n"
     ]
    },
    {
     "name": "stdin",
     "output_type": "stream",
     "text": [
      "Enter your move (r,p,s) or exit (another letter) r\n"
     ]
    },
    {
     "name": "stdout",
     "output_type": "stream",
     "text": [
      "You r | Pc p\n"
     ]
    },
    {
     "name": "stdin",
     "output_type": "stream",
     "text": [
      "Enter your move (r,p,s) or exit (another letter) r\n"
     ]
    },
    {
     "name": "stdout",
     "output_type": "stream",
     "text": [
      "You r | Pc r\n"
     ]
    },
    {
     "name": "stdin",
     "output_type": "stream",
     "text": [
      "Enter your move (r,p,s) or exit (another letter) t\n"
     ]
    },
    {
     "name": "stdout",
     "output_type": "stream",
     "text": [
      "Games: 3 | Your wins:  0 | Pc wins:  1\n"
     ]
    }
   ],
   "source": [
    "rps_game()"
   ]
  },
  {
   "cell_type": "code",
   "execution_count": null,
   "id": "93e6704a-c193-44d5-b0e0-87d46f4e42e2",
   "metadata": {},
   "outputs": [],
   "source": []
  },
  {
   "cell_type": "code",
   "execution_count": null,
   "id": "62ba7b3e-37af-4da7-957e-b2b3dd576193",
   "metadata": {},
   "outputs": [],
   "source": []
  },
  {
   "cell_type": "code",
   "execution_count": null,
   "id": "d4a60dd7-9bca-444f-820e-45996efdfd7b",
   "metadata": {},
   "outputs": [],
   "source": []
  },
  {
   "cell_type": "code",
   "execution_count": null,
   "id": "59a0f78e-14e9-4e3b-ba8e-a1a609db813c",
   "metadata": {},
   "outputs": [],
   "source": []
  },
  {
   "cell_type": "code",
   "execution_count": null,
   "id": "eadfef0a-88a0-4a63-a6be-47575a4de665",
   "metadata": {},
   "outputs": [],
   "source": []
  },
  {
   "cell_type": "code",
   "execution_count": null,
   "id": "44dc5ed9-0981-4061-9841-f05e5e69e930",
   "metadata": {},
   "outputs": [],
   "source": []
  }
 ],
 "metadata": {
  "kernelspec": {
   "display_name": "Python 3 (ipykernel)",
   "language": "python",
   "name": "python3"
  },
  "language_info": {
   "codemirror_mode": {
    "name": "ipython",
    "version": 3
   },
   "file_extension": ".py",
   "mimetype": "text/x-python",
   "name": "python",
   "nbconvert_exporter": "python",
   "pygments_lexer": "ipython3",
   "version": "3.11.6"
  }
 },
 "nbformat": 4,
 "nbformat_minor": 5
}
