{
 "cells": [
  {
   "cell_type": "markdown",
   "id": "85a828da-c2be-497c-8823-06fa559bf31e",
   "metadata": {},
   "source": [
    "# Lecture 5\n",
    "Excercises proposed for the exams: Q1 and Q2\n",
    "\n",
    "Extras: Q4"
   ]
  },
  {
   "cell_type": "markdown",
   "id": "3ae5ab5d-2a86-4c1e-8f94-013b082b38ef",
   "metadata": {},
   "source": [
    "## Q1: Your next research project.\n",
    "\n",
    "Pick the directory of your current research project (your next paper!) and put it under version control.\n",
    "\n",
    "Here is my repo: https://github.com/fgalizzi/dune-pd-ana?tab=readme-ov-file"
   ]
  },
  {
   "cell_type": "markdown",
   "id": "6ee8926a-eb60-4745-8e22-306728db44b2",
   "metadata": {},
   "source": [
    "## Q2: Egocentric\n",
    "\n",
    "Write a github action that lets you commit only if README.md contains your name.\n",
    "\n",
    "Here is my action: https://github.com/fgalizzi/dune-pd-ana/blob/main/.github/workflows/actions.yml"
   ]
  },
  {
   "cell_type": "markdown",
   "id": "4342e488-327b-4771-b2ec-e8c33f8dfc0e",
   "metadata": {},
   "source": [
    "name: Check README\n",
    "\n",
    "on:\n",
    "  push:\n",
    "    paths:\n",
    "      - '**/*.md'\n",
    "\n",
    "jobs:\n",
    "  check_readme:\n",
    "    runs-on: ubuntu-latest\n",
    "\n",
    "    steps:\n",
    "    - name: Checkout code\n",
    "      uses: actions/checkout@v2\n",
    "\n",
    "    - name: Check README\n",
    "      run: |\n",
    "        if grep -q 'Federico Galizzi' README.md; then\n",
    "          echo \"Readme check passed!\"\n",
    "        else\n",
    "          echo \"Error: README.md does not contain the required name.\"\n",
    "          exit 1\n",
    "        fi\n"
   ]
  },
  {
   "cell_type": "markdown",
   "id": "392ce52b-eb69-4e3b-b681-2a8d6e3ed07d",
   "metadata": {},
   "source": [
    "# Extra"
   ]
  },
  {
   "cell_type": "markdown",
   "id": "c74b3961-4fb6-4348-9418-b7094a6b0ff8",
   "metadata": {},
   "source": [
    "## Q4: You're wrong\n",
    "\n",
    "Find a bug/typo in the material of this course, fix it, and send me a pull request.\n",
    "\n",
    "Sent a pull request \"Update L08_pytest_pip_cprofile.ipynb\""
   ]
  }
 ],
 "metadata": {
  "kernelspec": {
   "display_name": "Python 3 (ipykernel)",
   "language": "python",
   "name": "python3"
  },
  "language_info": {
   "codemirror_mode": {
    "name": "ipython",
    "version": 3
   },
   "file_extension": ".py",
   "mimetype": "text/x-python",
   "name": "python",
   "nbconvert_exporter": "python",
   "pygments_lexer": "ipython3",
   "version": "3.11.6"
  }
 },
 "nbformat": 4,
 "nbformat_minor": 5
}
